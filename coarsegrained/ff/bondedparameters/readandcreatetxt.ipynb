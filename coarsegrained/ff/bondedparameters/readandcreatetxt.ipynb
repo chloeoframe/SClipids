{
 "cells": [
  {
   "cell_type": "code",
   "execution_count": 1,
   "metadata": {},
   "outputs": [],
   "source": [
    "import pandas as pd\n",
    "import pickle\n"
   ]
  },
  {
   "cell_type": "code",
   "execution_count": 24,
   "metadata": {},
   "outputs": [],
   "source": [
    "def read_pickle_and_write_to_txt(pickle_file_path, txt_file_path_angle,txt_file_path_bond):\n",
    "    # Open the pickle file in read-binary mode\n",
    "    with open(pickle_file_path, 'rb') as pickle_file:\n",
    "        # Load the contents of the pickle file\n",
    "        data = pd.read_pickle(pickle_file)\n",
    "        print(data.keys())\n",
    "    for val in data.keys():\n",
    "        if val =='angles':\n",
    "            print(data[val])\n",
    "            # Open the text file in write mode\n",
    "            with open(txt_file_path_angle, 'w') as txt_file:\n",
    "                txt_file.write('# angle triplet\\t\\t\\tequilibrium angle (degrees)\\tk-constant ([kcal/(mol-rad^2)])\\n')\n",
    "                # Iterate over each key-value pair in the data\n",
    "                for key, value in data[val].items():\n",
    "                    # Format the line as 'key value1 value2'\n",
    "                    line = f\"{key}\\t\\t\\t{value[0]}\\t\\t\\t\\t\\t{value[1]}\\n\"\n",
    "                    # Write the formatted line to the text file\n",
    "                    txt_file.write(line)\n",
    "        if val =='bonds':\n",
    "            print(data[val])\n",
    "            # Open the text file in write mode\n",
    "            with open(txt_file_path_bond, 'w') as txt_file:\n",
    "                txt_file.write('# bond pair\\t\\t\\tequilibrium distance (Å)\\tk-constant ([kcal/(mol-Å^2)])\\n')\n",
    "                # Iterate over each key-value pair in the data\n",
    "                for key, value in data[val].items():\n",
    "                    # Format the line as 'key value1 value2'\n",
    "                    line = f\"{key}\\t\\t\\t{value[0]}\\t\\t\\t\\t\\t{value[1]}\\n\"\n",
    "                    # Write the formatted line to the text file\n",
    "                    txt_file.write(line)\n",
    "\n",
    "   "
   ]
  },
  {
   "cell_type": "code",
   "execution_count": 25,
   "metadata": {},
   "outputs": [
    {
     "name": "stdout",
     "output_type": "stream",
     "text": [
      "dict_keys(['angles', 'bonds'])\n",
      "{'amide-mhead2-tail': (107.0, 5.285), 'ring1-chead-ring2': (56.326, 1132.5681907540516), 'tail-tail-tail': (158.0, 56.97), 'ring1-ring2-ring3': (54.019, 2678.769981609583), 'ring2-ring3-chme': (133.183, 77.47422986027716), 'mhead2-tail-oh3-b': (77.332, 320), 'mhead2-tail-oh3-a': (52.156, 231), 'ring1-ring3-ring2': (53.386, 2787.102591159971), 'ring4-ring3-chme': (53.591, 671.6621792124029), 'ring1-ring4-ring3': (52.465, 2675.4871752595714), 'chead-ring2-ring3': (139.446, 597.4707557021375), 'chead-ring2-ring1': (85.449, 1011.1043558036172), 'mhead2-amide-tail': (106.0, 29.0), 'amide-mhead2-oh1': (109.0, 8.388), 'amide-mhead2-oh2': (105.0, 10.759), 'chead-ring2-chme': (92.779, 75.50454605027011), 'ring3-ring4-ctail': (94.433, 276.08401403598765), 'ring2-ring1-ring4': (115.083, 663.1268827023723), 'ring3-ring1-ring4': (44.826, 3617.652597712942), 'ring2-ring3-ring4': (133.371, 446.46166360159725), 'ring1-ring3-chme': (95.501, 354.5430858012684), 'amide-tail-oh4': (71, 490), 'ring3-ring2-chme': (60.855, 436.613244551562), 'mhead2-tail-tail': (158.0, 6.33), 'ring3-ring2-ring4': (44.826, 3617.652597712942), 'oh4-tail-tail': (141, 16), 'ring1-ring2-chme': (49.707, 643.4300446023019), 'amide-tail-tail': (158.0, 6.33), 'oh1-mhead2-tail': (128.0, 5.671), 'ring4-ctail-cterm': (125.028, 7.550454605027012), 'ring2-ring1-ring3': (70.993, 1322.970959054733), 'ring1-ring3-ring4': (81.133, 1329.5365717547566), 'chead-ring1-ring4': (151.233, 351.2602794512566), 'oh2-mhead2-tail': (69.0, 361.765), 'head-tail-tail': (148.0, 11.63), 'chead-ring1-ring3': (144.251, 180.22606861564475), 'chead-ring1-ring2': (36.668, 2941.3944896105227), 'ring1-ring4-ctail': (144.251, 180.22606861564475), 'tail-tail-oh3': (143.77229953217747, 54), 'oh1-mhead2-oh2': (115.0, 12.22), 'ter2-tail-tail': (155.0, 7.93)}\n",
      "{'tail-tail': (3.92, 20.928), 'ring1-ring4': (4.476, 152.1), 'ring3-chme': (2.658, 116.2), 'mhead2-oh1': (2.326, 45.307), 'ring1-ring3': (3.603, 352.3), 'mhead2-oh2': (2.067, 151.987), 'ring4-ctail': (3.693, 50.3), 'ring1-ring2': (3.574, 324.1), 'mhead2-tail': (3.62, 27.575), 'head-tail': (3.28, 24.296), 'tail-oh3': (2.4, 93), 'ctail-cterm': (4.22, 13.2), 'ter2-tail': (3.41, 35.576), 'ring3-ring4': (3.205, 362.6), 'amide-mhead2': (2.92, 190.045), 'ring2-chme': (2.371, 65.4), 'oh4-tail': (2.5, 542), 'ring2-ring3': (4.203, 132.2), 'chead-ring2': (2.583, 245.9), 'chead-ring1': (4.269, 125.5), 'amide-tail': (3.01, 103.857)}\n"
     ]
    }
   ],
   "source": [
    "pickle_file_path = 'cg-bond-coeffs_stiff-tails-v3.p'  \n",
    "angles_txt_file_path = 'angles.txt'     \n",
    "bonds_txt_file_path = 'bonds.txt'      \n",
    "read_pickle_and_write_to_txt(pickle_file_path, angles_txt_file_path,bonds_txt_file_path)"
   ]
  }
 ],
 "metadata": {
  "kernelspec": {
   "display_name": "Python 3 (ipykernel)",
   "language": "python",
   "name": "python3"
  },
  "language_info": {
   "codemirror_mode": {
    "name": "ipython",
    "version": 3
   },
   "file_extension": ".py",
   "mimetype": "text/x-python",
   "name": "python",
   "nbconvert_exporter": "python",
   "pygments_lexer": "ipython3",
   "version": "3.10.12"
  }
 },
 "nbformat": 4,
 "nbformat_minor": 4
}
